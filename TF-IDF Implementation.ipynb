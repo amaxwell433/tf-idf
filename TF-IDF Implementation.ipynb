{
 "cells": [
  {
   "cell_type": "code",
   "execution_count": 2,
   "metadata": {},
   "outputs": [
    {
     "name": "stdout",
     "output_type": "stream",
     "text": [
      "Using base prefix '/Library/Frameworks/Python.framework/Versions/3.8'\n",
      "New python executable in /Users/alexandermaxwell/school/fall2021/4206/final/env/bin/python3.8\n",
      "Not overwriting existing python script /Users/alexandermaxwell/school/fall2021/4206/final/env/bin/python (you must use /Users/alexandermaxwell/school/fall2021/4206/final/env/bin/python3.8)\n",
      "Installing setuptools, pip, wheel...\n",
      "done.\n",
      "Overwriting /Users/alexandermaxwell/school/fall2021/4206/final/env/bin/activate with new content\n",
      "Overwriting /Users/alexandermaxwell/school/fall2021/4206/final/env/bin/activate.fish with new content\n",
      "Overwriting /Users/alexandermaxwell/school/fall2021/4206/final/env/bin/activate.csh with new content\n",
      "Overwriting /Users/alexandermaxwell/school/fall2021/4206/final/env/bin/activate.xsh with new content\n",
      "Overwriting /Users/alexandermaxwell/school/fall2021/4206/final/env/bin/python-config with new content\n",
      "Requirement already satisfied: nltk in /Library/Frameworks/Python.framework/Versions/3.8/lib/python3.8/site-packages (3.6.1)\n",
      "Requirement already satisfied: tqdm in /Library/Frameworks/Python.framework/Versions/3.8/lib/python3.8/site-packages (from nltk) (4.46.0)\n",
      "Requirement already satisfied: regex in /Library/Frameworks/Python.framework/Versions/3.8/lib/python3.8/site-packages (from nltk) (2021.4.4)\n",
      "Requirement already satisfied: joblib in /Library/Frameworks/Python.framework/Versions/3.8/lib/python3.8/site-packages (from nltk) (1.0.1)\n",
      "Requirement already satisfied: click in /Library/Frameworks/Python.framework/Versions/3.8/lib/python3.8/site-packages (from nltk) (7.1.2)\n",
      "\u001b[33mWARNING: You are using pip version 21.0; however, version 21.3.1 is available.\n",
      "You should consider upgrading via the '/Library/Frameworks/Python.framework/Versions/3.8/bin/python3.8 -m pip install --upgrade pip' command.\u001b[0m\n",
      "Requirement already satisfied: numpy in /Library/Frameworks/Python.framework/Versions/3.8/lib/python3.8/site-packages (1.20.1)\n",
      "\u001b[33mWARNING: You are using pip version 21.0; however, version 21.3.1 is available.\n",
      "You should consider upgrading via the '/Library/Frameworks/Python.framework/Versions/3.8/bin/python3.8 -m pip install --upgrade pip' command.\u001b[0m\n",
      "Requirement already satisfied: pandas in /Library/Frameworks/Python.framework/Versions/3.8/lib/python3.8/site-packages (1.2.2)\n",
      "Requirement already satisfied: pytz>=2017.3 in /Library/Frameworks/Python.framework/Versions/3.8/lib/python3.8/site-packages (from pandas) (2021.1)\n",
      "Requirement already satisfied: numpy>=1.16.5 in /Library/Frameworks/Python.framework/Versions/3.8/lib/python3.8/site-packages (from pandas) (1.20.1)\n",
      "Requirement already satisfied: python-dateutil>=2.7.3 in /Users/alexandermaxwell/Library/Python/3.8/lib/python/site-packages (from pandas) (2.8.2)\n",
      "Requirement already satisfied: six>=1.5 in /Library/Frameworks/Python.framework/Versions/3.8/lib/python3.8/site-packages (from python-dateutil>=2.7.3->pandas) (1.15.0)\n",
      "\u001b[33mWARNING: You are using pip version 21.0; however, version 21.3.1 is available.\n",
      "You should consider upgrading via the '/Library/Frameworks/Python.framework/Versions/3.8/bin/python3.8 -m pip install --upgrade pip' command.\u001b[0m\n",
      "Requirement already satisfied: num2words in /Library/Frameworks/Python.framework/Versions/3.8/lib/python3.8/site-packages (0.5.10)\n",
      "Requirement already satisfied: docopt>=0.6.2 in /Library/Frameworks/Python.framework/Versions/3.8/lib/python3.8/site-packages (from num2words) (0.6.2)\n",
      "\u001b[33mWARNING: You are using pip version 21.0; however, version 21.3.1 is available.\n",
      "You should consider upgrading via the '/Library/Frameworks/Python.framework/Versions/3.8/bin/python3.8 -m pip install --upgrade pip' command.\u001b[0m\n",
      "Requirement already satisfied: tqdm in /Library/Frameworks/Python.framework/Versions/3.8/lib/python3.8/site-packages (4.46.0)\n",
      "\u001b[33mWARNING: You are using pip version 21.0; however, version 21.3.1 is available.\n",
      "You should consider upgrading via the '/Library/Frameworks/Python.framework/Versions/3.8/bin/python3.8 -m pip install --upgrade pip' command.\u001b[0m\n"
     ]
    }
   ],
   "source": [
    "!virtualenv env\n",
    "!source env/bin/activate\n",
    "!pip3 install nltk\n",
    "!pip3 install numpy\n",
    "!pip3 install pandas\n",
    "!pip3 install num2words\n",
    "!pip3 install tqdm"
   ]
  },
  {
   "cell_type": "code",
   "execution_count": 3,
   "metadata": {},
   "outputs": [],
   "source": [
    "import nltk\n",
    "from nltk.corpus import stopwords\n",
    "from nltk.tokenize import word_tokenize\n",
    "from nltk.stem import PorterStemmer\n",
    "from num2words import num2words\n",
    "import pandas as pd\n",
    "from collections import Counter\n",
    "import numpy as np\n",
    "import json\n",
    "from tqdm import tqdm"
   ]
  },
  {
   "cell_type": "code",
   "execution_count": 4,
   "metadata": {},
   "outputs": [],
   "source": [
    "corpus = []\n",
    "for line in open('combined.json', 'r'):\n",
    "    corpus.append(json.loads(line))"
   ]
  },
  {
   "cell_type": "code",
   "execution_count": 5,
   "metadata": {},
   "outputs": [],
   "source": [
    "pd_data = pd.DataFrame(corpus)\n",
    "pd_data.head()\n",
    "length = len(pd_data)\n",
    "alpha = .3 #decreased weight factor for the body. this increases relevance of the title by a factor of 3"
   ]
  },
  {
   "cell_type": "code",
   "execution_count": 13,
   "metadata": {},
   "outputs": [
    {
     "data": {
      "text/html": [
       "<div>\n",
       "<style scoped>\n",
       "    .dataframe tbody tr th:only-of-type {\n",
       "        vertical-align: middle;\n",
       "    }\n",
       "\n",
       "    .dataframe tbody tr th {\n",
       "        vertical-align: top;\n",
       "    }\n",
       "\n",
       "    .dataframe thead th {\n",
       "        text-align: right;\n",
       "    }\n",
       "</style>\n",
       "<table border=\"1\" class=\"dataframe\">\n",
       "  <thead>\n",
       "    <tr style=\"text-align: right;\">\n",
       "      <th></th>\n",
       "      <th>id</th>\n",
       "      <th>title</th>\n",
       "      <th>contents</th>\n",
       "      <th>date</th>\n",
       "      <th>topics</th>\n",
       "      <th>components</th>\n",
       "    </tr>\n",
       "  </thead>\n",
       "  <tbody>\n",
       "    <tr>\n",
       "      <th>0</th>\n",
       "      <td>None</td>\n",
       "      <td>Convicted Bomb Plotter Sentenced to 30 Years</td>\n",
       "      <td>PORTLAND, Oregon. – Mohamed Osman Mohamud, 23,...</td>\n",
       "      <td>2014-10-01T00:00:00-04:00</td>\n",
       "      <td>[]</td>\n",
       "      <td>[National Security Division (NSD)]</td>\n",
       "    </tr>\n",
       "    <tr>\n",
       "      <th>1</th>\n",
       "      <td>12-919</td>\n",
       "      <td>$1 Million in Restitution Payments Announced t...</td>\n",
       "      <td>WASHINGTON – North Carolina’s Waccamaw River...</td>\n",
       "      <td>2012-07-25T00:00:00-04:00</td>\n",
       "      <td>[]</td>\n",
       "      <td>[Environment and Natural Resources Division]</td>\n",
       "    </tr>\n",
       "    <tr>\n",
       "      <th>2</th>\n",
       "      <td>11-1002</td>\n",
       "      <td>$1 Million Settlement Reached for Natural Reso...</td>\n",
       "      <td>BOSTON– A $1-million settlement has been...</td>\n",
       "      <td>2011-08-03T00:00:00-04:00</td>\n",
       "      <td>[]</td>\n",
       "      <td>[Environment and Natural Resources Division]</td>\n",
       "    </tr>\n",
       "    <tr>\n",
       "      <th>3</th>\n",
       "      <td>10-015</td>\n",
       "      <td>10 Las Vegas Men Indicted \\r\\nfor Falsifying V...</td>\n",
       "      <td>WASHINGTON—A federal grand jury in Las Vegas...</td>\n",
       "      <td>2010-01-08T00:00:00-05:00</td>\n",
       "      <td>[]</td>\n",
       "      <td>[Environment and Natural Resources Division]</td>\n",
       "    </tr>\n",
       "    <tr>\n",
       "      <th>4</th>\n",
       "      <td>18-898</td>\n",
       "      <td>$100 Million Settlement Will Speed Cleanup Wor...</td>\n",
       "      <td>The U.S. Department of Justice, the U.S. Envir...</td>\n",
       "      <td>2018-07-09T00:00:00-04:00</td>\n",
       "      <td>[Environment]</td>\n",
       "      <td>[Environment and Natural Resources Division]</td>\n",
       "    </tr>\n",
       "    <tr>\n",
       "      <th>...</th>\n",
       "      <td>...</td>\n",
       "      <td>...</td>\n",
       "      <td>...</td>\n",
       "      <td>...</td>\n",
       "      <td>...</td>\n",
       "      <td>...</td>\n",
       "    </tr>\n",
       "    <tr>\n",
       "      <th>13082</th>\n",
       "      <td>16-735</td>\n",
       "      <td>Yuengling to Upgrade Environmental Measures to...</td>\n",
       "      <td>The Department of Justice and the U.S. Environ...</td>\n",
       "      <td>2016-06-23T00:00:00-04:00</td>\n",
       "      <td>[Environment]</td>\n",
       "      <td>[Environment and Natural Resources Division]</td>\n",
       "    </tr>\n",
       "    <tr>\n",
       "      <th>13083</th>\n",
       "      <td>10-473</td>\n",
       "      <td>Zarein Ahmedzay Pleads Guilty to Terror Violat...</td>\n",
       "      <td>The Justice Department announced that Zarein...</td>\n",
       "      <td>2010-04-23T00:00:00-04:00</td>\n",
       "      <td>[]</td>\n",
       "      <td>[Office of the Attorney General]</td>\n",
       "    </tr>\n",
       "    <tr>\n",
       "      <th>13084</th>\n",
       "      <td>17-045</td>\n",
       "      <td>Zimmer Biomet Holdings Inc. Agrees to Pay $17....</td>\n",
       "      <td>Subsidiary Agrees to Plead Guilty to Violating...</td>\n",
       "      <td>2017-01-12T00:00:00-05:00</td>\n",
       "      <td>[Foreign Corruption]</td>\n",
       "      <td>[Criminal Division, Criminal - Criminal Fraud ...</td>\n",
       "    </tr>\n",
       "    <tr>\n",
       "      <th>13085</th>\n",
       "      <td>17-252</td>\n",
       "      <td>ZTE Corporation Agrees to Plead Guilty and Pay...</td>\n",
       "      <td>ZTE Corporation has agreed to enter a guilty p...</td>\n",
       "      <td>2017-03-07T00:00:00-05:00</td>\n",
       "      <td>[Asset Forfeiture, Counterintelligence and Exp...</td>\n",
       "      <td>[National Security Division (NSD), USAO - Texa...</td>\n",
       "    </tr>\n",
       "    <tr>\n",
       "      <th>13086</th>\n",
       "      <td>17-304</td>\n",
       "      <td>ZTE Corporation Pleads Guilty for  Violating U...</td>\n",
       "      <td>ZTE Corporation pleaded guilty today to conspi...</td>\n",
       "      <td>2017-03-22T00:00:00-04:00</td>\n",
       "      <td>[Counterintelligence and Export Control]</td>\n",
       "      <td>[National Security Division (NSD), USAO - Texa...</td>\n",
       "    </tr>\n",
       "  </tbody>\n",
       "</table>\n",
       "<p>13087 rows × 6 columns</p>\n",
       "</div>"
      ],
      "text/plain": [
       "            id                                              title  \\\n",
       "0         None       Convicted Bomb Plotter Sentenced to 30 Years   \n",
       "1       12-919  $1 Million in Restitution Payments Announced t...   \n",
       "2      11-1002  $1 Million Settlement Reached for Natural Reso...   \n",
       "3       10-015  10 Las Vegas Men Indicted \\r\\nfor Falsifying V...   \n",
       "4       18-898  $100 Million Settlement Will Speed Cleanup Wor...   \n",
       "...        ...                                                ...   \n",
       "13082   16-735  Yuengling to Upgrade Environmental Measures to...   \n",
       "13083   10-473  Zarein Ahmedzay Pleads Guilty to Terror Violat...   \n",
       "13084   17-045  Zimmer Biomet Holdings Inc. Agrees to Pay $17....   \n",
       "13085   17-252  ZTE Corporation Agrees to Plead Guilty and Pay...   \n",
       "13086   17-304  ZTE Corporation Pleads Guilty for  Violating U...   \n",
       "\n",
       "                                                contents  \\\n",
       "0      PORTLAND, Oregon. – Mohamed Osman Mohamud, 23,...   \n",
       "1        WASHINGTON – North Carolina’s Waccamaw River...   \n",
       "2            BOSTON– A $1-million settlement has been...   \n",
       "3        WASHINGTON—A federal grand jury in Las Vegas...   \n",
       "4      The U.S. Department of Justice, the U.S. Envir...   \n",
       "...                                                  ...   \n",
       "13082  The Department of Justice and the U.S. Environ...   \n",
       "13083    The Justice Department announced that Zarein...   \n",
       "13084  Subsidiary Agrees to Plead Guilty to Violating...   \n",
       "13085  ZTE Corporation has agreed to enter a guilty p...   \n",
       "13086  ZTE Corporation pleaded guilty today to conspi...   \n",
       "\n",
       "                            date  \\\n",
       "0      2014-10-01T00:00:00-04:00   \n",
       "1      2012-07-25T00:00:00-04:00   \n",
       "2      2011-08-03T00:00:00-04:00   \n",
       "3      2010-01-08T00:00:00-05:00   \n",
       "4      2018-07-09T00:00:00-04:00   \n",
       "...                          ...   \n",
       "13082  2016-06-23T00:00:00-04:00   \n",
       "13083  2010-04-23T00:00:00-04:00   \n",
       "13084  2017-01-12T00:00:00-05:00   \n",
       "13085  2017-03-07T00:00:00-05:00   \n",
       "13086  2017-03-22T00:00:00-04:00   \n",
       "\n",
       "                                                  topics  \\\n",
       "0                                                     []   \n",
       "1                                                     []   \n",
       "2                                                     []   \n",
       "3                                                     []   \n",
       "4                                          [Environment]   \n",
       "...                                                  ...   \n",
       "13082                                      [Environment]   \n",
       "13083                                                 []   \n",
       "13084                               [Foreign Corruption]   \n",
       "13085  [Asset Forfeiture, Counterintelligence and Exp...   \n",
       "13086           [Counterintelligence and Export Control]   \n",
       "\n",
       "                                              components  \n",
       "0                     [National Security Division (NSD)]  \n",
       "1           [Environment and Natural Resources Division]  \n",
       "2           [Environment and Natural Resources Division]  \n",
       "3           [Environment and Natural Resources Division]  \n",
       "4           [Environment and Natural Resources Division]  \n",
       "...                                                  ...  \n",
       "13082       [Environment and Natural Resources Division]  \n",
       "13083                   [Office of the Attorney General]  \n",
       "13084  [Criminal Division, Criminal - Criminal Fraud ...  \n",
       "13085  [National Security Division (NSD), USAO - Texa...  \n",
       "13086  [National Security Division (NSD), USAO - Texa...  \n",
       "\n",
       "[13087 rows x 6 columns]"
      ]
     },
     "metadata": {},
     "output_type": "display_data"
    }
   ],
   "source": [
    "Titles = pd_data.title\n",
    "Contents = pd_data.contents\n",
    "display(pd_data)\n"
   ]
  },
  {
   "cell_type": "markdown",
   "metadata": {},
   "source": [
    "Pre-Processing of data for readability"
   ]
  },
  {
   "cell_type": "code",
   "execution_count": 6,
   "metadata": {},
   "outputs": [],
   "source": [
    "def convert_lower_case(data):\n",
    "    tokens = word_tokenize(str(data))\n",
    "    temp = \"\"\n",
    "    for word in tokens:\n",
    "        temp = temp + \" \" + word.lower()\n",
    "    return temp"
   ]
  },
  {
   "cell_type": "code",
   "execution_count": 7,
   "metadata": {},
   "outputs": [],
   "source": [
    "def remove_punctuation(data):\n",
    "    punctuation = '''!()-[]{};:'\"\\,<>./?@#$%^&*_~'''\n",
    "    for char in punctuation:\n",
    "        data = data.replace(char, \" \")\n",
    "    return data"
   ]
  },
  {
   "cell_type": "code",
   "execution_count": 8,
   "metadata": {},
   "outputs": [],
   "source": [
    "\n",
    "def remove_stop_words(data):\n",
    "    temp = \"\"\n",
    "    stop_words = set(stopwords.words('english'))\n",
    "    tokens = word_tokenize(data)\n",
    "    for word in tokens:\n",
    "        if not word in stop_words:\n",
    "            temp = temp + \" \" + word\n",
    "    return temp"
   ]
  },
  {
   "cell_type": "code",
   "execution_count": 9,
   "metadata": {},
   "outputs": [],
   "source": [
    "def stem(data):\n",
    "    stemmer = PorterStemmer()\n",
    "\n",
    "    tokens = word_tokenize(str(data))\n",
    "    temp = list()\n",
    "    for word in tokens:\n",
    "        temp.append(stemmer.stem(word))\n",
    "    return temp"
   ]
  },
  {
   "cell_type": "code",
   "execution_count": 10,
   "metadata": {},
   "outputs": [],
   "source": [
    "def convert_numbers(data):\n",
    "    tokens = word_tokenize(str(data))\n",
    "    temp = \"\"\n",
    "    for word in tokens:\n",
    "        try:\n",
    "            word = num2words(int(word))\n",
    "        except:\n",
    "            pass\n",
    "        temp = temp + \" \" + word\n",
    "    return temp\n"
   ]
  },
  {
   "cell_type": "code",
   "execution_count": 11,
   "metadata": {},
   "outputs": [],
   "source": [
    "def preprocess(data):\n",
    "    data = convert_lower_case(data)\n",
    "    data = convert_numbers(data)\n",
    "    data = remove_punctuation(data)\n",
    "    data = remove_stop_words(data)\n",
    "    data = stem(data)\n",
    "    return data"
   ]
  },
  {
   "cell_type": "markdown",
   "metadata": {},
   "source": [
    "Processing of Data"
   ]
  },
  {
   "cell_type": "code",
   "execution_count": 14,
   "metadata": {},
   "outputs": [
    {
     "name": "stderr",
     "output_type": "stream",
     "text": [
      "100%|██████████| 13087/13087 [00:16<00:00, 790.34it/s]\n"
     ]
    }
   ],
   "source": [
    "Processed_Titles = list()\n",
    "for item in tqdm(Titles):\n",
    "    Processed_Titles.append(word_tokenize(str(preprocess(item))))"
   ]
  },
  {
   "cell_type": "code",
   "execution_count": 15,
   "metadata": {},
   "outputs": [
    {
     "name": "stderr",
     "output_type": "stream",
     "text": [
      "100%|██████████| 13087/13087 [05:54<00:00, 36.93it/s] \n"
     ]
    }
   ],
   "source": [
    "Processed_Contents = list()\n",
    "for item in tqdm(Contents):\n",
    "    Processed_Contents.append(word_tokenize(str(preprocess(item))))"
   ]
  },
  {
   "cell_type": "markdown",
   "metadata": {},
   "source": [
    "Calculating Document Frequency for Corpus"
   ]
  },
  {
   "cell_type": "code",
   "execution_count": 16,
   "metadata": {},
   "outputs": [],
   "source": [
    "DF = {}\n",
    "\n",
    "for i in range(length):\n",
    "    tokens = Processed_Contents[i]\n",
    "    for word in tokens:\n",
    "        try:\n",
    "            DF[word].add(i)\n",
    "        except:\n",
    "            DF[word] = {i}\n",
    "    tokens = Processed_Titles[i]\n",
    "    for word in tokens:\n",
    "        try:\n",
    "            DF[word].add(i)\n",
    "        except:\n",
    "            DF[word] = {i}\n",
    "\n",
    "for i in DF:\n",
    "    DF[i] = len(DF[i])\n",
    "\n",
    "\n",
    "\n"
   ]
  },
  {
   "cell_type": "code",
   "execution_count": 17,
   "metadata": {},
   "outputs": [
    {
     "name": "stdout",
     "output_type": "stream",
     "text": [
      "46926\n"
     ]
    }
   ],
   "source": [
    "Vocab_Size = len(DF)\n",
    "print(Vocab_Size)\n"
   ]
  },
  {
   "cell_type": "code",
   "execution_count": 18,
   "metadata": {},
   "outputs": [],
   "source": [
    "def Document_Frequency(word):\n",
    "    freq = 0\n",
    "    try:\n",
    "        freq = DF[word]\n",
    "    except:\n",
    "        ...\n",
    "    return freq"
   ]
  },
  {
   "cell_type": "markdown",
   "metadata": {},
   "source": [
    "Calculate Document Frequency"
   ]
  },
  {
   "cell_type": "code",
   "execution_count": 19,
   "metadata": {},
   "outputs": [],
   "source": [
    "def TF_IDF(Processed_Items):\n",
    "    Temp_TF_IDF = {}\n",
    "    for i in tqdm(range(length)):\n",
    "        tokens = Processed_Contents[i]\n",
    "\n",
    "        counter = Counter(tokens + Processed_Items[i])\n",
    "        words_count = len(tokens + Processed_Items[i])\n",
    "\n",
    "        for token in np.unique(tokens):\n",
    "            tf = counter[token]/words_count\n",
    "            df = Document_Frequency(token)\n",
    "            idf = np.log((length+1)/(df+1)) #numerator is added 1 to avoid negative values\n",
    "            Temp_TF_IDF[i, token] = tf*idf\n",
    "            #print(f\"tf {tf} df {df} idf {idf} \")\n",
    "        \n",
    "    return Temp_TF_IDF\n",
    "    "
   ]
  },
  {
   "cell_type": "code",
   "execution_count": 20,
   "metadata": {},
   "outputs": [
    {
     "name": "stderr",
     "output_type": "stream",
     "text": [
      "100%|██████████| 13087/13087 [00:14<00:00, 910.34it/s] \n",
      "100%|██████████| 13087/13087 [00:15<00:00, 844.39it/s]\n"
     ]
    }
   ],
   "source": [
    "Title_TF_IDF = TF_IDF(Processed_Titles)\n",
    "Contents_TF_IDF = TF_IDF(Processed_Contents)"
   ]
  },
  {
   "cell_type": "code",
   "execution_count": 21,
   "metadata": {},
   "outputs": [],
   "source": [
    "for value in Contents_TF_IDF:\n",
    "    Contents_TF_IDF[value] *= alpha #correctly weighting the body for less than the title"
   ]
  },
  {
   "cell_type": "markdown",
   "metadata": {},
   "source": [
    "Merging the two indexes"
   ]
  },
  {
   "cell_type": "code",
   "execution_count": 22,
   "metadata": {},
   "outputs": [],
   "source": [
    "for value in Title_TF_IDF:\n",
    "    Contents_TF_IDF[value] = Title_TF_IDF[value]"
   ]
  },
  {
   "cell_type": "code",
   "execution_count": 23,
   "metadata": {},
   "outputs": [
    {
     "data": {
      "text/plain": [
       "2665778"
      ]
     },
     "execution_count": 23,
     "metadata": {},
     "output_type": "execute_result"
    }
   ],
   "source": [
    "len(Contents_TF_IDF)"
   ]
  },
  {
   "cell_type": "markdown",
   "metadata": {},
   "source": [
    "Matching Function using vectorized data"
   ]
  },
  {
   "cell_type": "code",
   "execution_count": 24,
   "metadata": {},
   "outputs": [],
   "source": [
    "\n",
    "def matching_score(results, query):\n",
    "    preprocessed_query = preprocess(query)\n",
    "    tokens = word_tokenize(str(preprocessed_query))\n",
    "\n",
    "    print(\"Matching Score\")\n",
    "    print(\"\\nQuery:\", query)\n",
    "    print(\"\")\n",
    "    print(tokens)\n",
    "    \n",
    "    query_weights = {}\n",
    "\n",
    "    for key in Contents_TF_IDF:\n",
    "        \n",
    "        if key[1] in tokens:\n",
    "            try:\n",
    "                query_weights[key[0]] += Contents_TF_IDF[key]\n",
    "            except:\n",
    "                query_weights[key[0]] = Contents_TF_IDF[key]\n",
    "    \n",
    "    query_weights = sorted(query_weights.items(), key=lambda x: x[1], reverse=True)\n",
    "\n",
    "    print(\"\")\n",
    "    \n",
    "    l = []\n",
    "    \n",
    "    for i in query_weights[:results]:\n",
    "        l.append(i[0])\n",
    "    \n",
    "    return l \n",
    "    \n",
    "    "
   ]
  },
  {
   "cell_type": "code",
   "execution_count": 25,
   "metadata": {},
   "outputs": [
    {
     "name": "stdout",
     "output_type": "stream",
     "text": [
      "Matching Score\n",
      "\n",
      "Query: shower\n",
      "\n",
      "['[', \"'shower\", \"'\", ']']\n",
      "\n",
      "article 1\n"
     ]
    },
    {
     "data": {
      "text/plain": [
       "\"A federal jury late yesterday convicted Kevin Casaus, 25, a former corrections officer at the Bernalillo County, N.M., Metropolitan Detention Center (MDC) in Albuquerque, N.M., on obstruction of justice and falsification of records charges, announced the Justice Department. \\xa0 Casaus and fellow former MDC corrections officers, Demetrio Juan Gonzales, 40, and Matthew Pendley, 26, were indicted in June 2012, and charged with various crimes related to the assault of an inmate housed at MDC on Dec. 21, 2011, and subsequent attempts to cover up and impede the investigation of the assault.\\xa0 In Oct. 2012, Gonzales pleaded guilty to violating the civil rights of an individual in his custody when he struck and choked the victim in the shower room/dress out area of MDC.\\xa0 Pendley pleaded guilty in Feb. 2012 to obstructing justice by making false statements to law enforcement during their investigation of the assault on an inmate.\\xa0 \\xa0 According to the evidence at trial, during the early morning hours of Dec. 21, 2011, Gonzales was assigned to the Receiving-Discharge-Transfer (RDT) Unit at MDC where individuals are brought to be booked soon after they are arrested.\\xa0 His job was to photograph and fingerprint those who are brought to RDT for booking.\\xa0 The victim, who had been arrested for Driving While Intoxicated, was verbally uncooperative during the booking process, but was not a physical threat to anyone.\\xa0 Gonzales testified that he became angry at the victim and walked him to the shower room where he knew there were no surveillance cameras.\\xa0 Several other corrections officers, including Casaus, followed Gonzales to the shower room.\\xa0 There, Gonzales physically assaulted the victim, striking him multiple times, and choking him.\\xa0 Gonzales testified that he beat the victim “in a blind rage” and then had to wash the victim’s blood off his hands.\\xa0 He further testified that the victim did not do anything to justify the beating. \\xa0 According to the testimony, Casaus and two other corrections officers were present in the shower room during the beating.\\xa0 Additionally, a former inmate who was in the hallway outside the shower room at the time of the beating, overheard groans and sounds consistent with the assault coming from the shower room.\\xa0 He was then tasked with cleaning the blood that was on the floors and walls of the shower room.\\xa0 The victim testified that, after Gonzales left the shower room, Casaus assaulted him by shoving him and striking him.\\xa0Casaus falsely stated during a recorded interview with a Bernalillo County Sheriff’s Office investigator that the victim was not assaulted in the shower room, the victim was not bleeding, and that they only brought the victim to the shower room to ask him to change out of his clothes.\\xa0 Casaus falsified his report when he wrote that he saw blood on the victim's clothes, but did not know where the blood came from. \\xa0 The jury deliberated approximately four hours before returning a verdict of guilty on the obstruction of justice and falsification of records charges, and not guilty on the assault charge. \\xa0 “Today's verdict affirms that law enforcement officers are not above the very laws they are sworn to uphold,” said Assistant Attorney General Thomas E. Perez.\\xa0 “As in this case, the Civil Rights Division will work closely with our United States Attorneys to vigorously prosecute police misconduct.” \\xa0 Casaus faces a maximum penalty of 20 years in prison when he is sentenced.\\xa0 His sentencing hearing has yet to be scheduled.\\xa0 Gonzales was sentenced in Jan. 2013 to 33 months in prison.\\xa0 Pendley’s sentencing hearing also has not been scheduled. \\xa0 “When those who are sworn to uphold the law and protect others instead abuse their power and position, they undermine the public’s confidence in the justice system and our government institutions,” said Kenneth J. Gonzales, U.S. Attorney for the District of New Mexico.\\xa0 “The U.S. Attorney’s Office and the Department of Justice are committed to promoting trust in our system of justice by vigorously prosecuting those who obstruct justice.” \\xa0 “Corrections officers have a special duty to safeguard the civil rights of the inmates they oversee.\\xa0 That is why the Albuquerque FBI aggressively investigated this case that also resulted in the guilty pleas of two other former MDC officers,” said Carol K.O. Lee, Special Agent in Charge of the Albuquerque Division of the FBI.\\xa0 “I would like to congratulate the FBI Special Agents for their hard work, and the U.S. Attorney's Office and the Justice Department’s Civil Rights Division for three successful and important civil rights prosecutions.\\xa0 I also want to thank the Bernalillo County Sheriff's Office and the Metropolitan Detention Center's executive management and internal affairs staff.” \\xa0 This case was investigated by the Albuquerque Division of the FBI and is being prosecuted by Assistant U.S. Attorney Mark T. Baker for the District of New Mexico and Trial Attorney Fara Gold of the Civil Rights Division of the U.S. Department of Justice.\""
      ]
     },
     "metadata": {},
     "output_type": "display_data"
    },
    {
     "name": "stdout",
     "output_type": "stream",
     "text": [
      "article 2\n"
     ]
    },
    {
     "data": {
      "text/plain": [
       "'    Demetrio Juan Gonzales, 40, a former corrections officer at the Bernalillo County Metropolitan Detention Center (MDC) in Albuquerque, N.M., pleaded guilty today to one count of violating the civil rights of an individual in his custody when he struck and choked the victim in the shower room/dress out area of MDC.     According to court documents, during the early morning hours of Dec. 21, 2011, Gonzales was assigned to the Receiving-Discharge-Transfer (RDT) Unit at MDC where individuals are brought to be booked soon after they are arrested.\\xa0 Gonzales’ job was to photograph and fingerprint those who are brought to RDT for booking.\\xa0 The victim, who had been arrested for Driving While Intoxicated, was verbally uncooperative during the booking process, but was not a physical threat to anyone.\\xa0 Nonetheless, Gonzales became angry at the victim and walked him to the shower room/dress out area where he knew there were no surveillance cameras.\\xa0 Several other corrections officers followed Gonzales to the shower room/dress out area.\\xa0 There, Gonzales physically assaulted the victim, striking him multiple times, and choking him, as evidenced by the marks on the victim’s neck that witnesses observed the next morning.\\xa0 As a result of Gonzales’ actions, the victim started bleeding.\\xa0 Gonzales acknowledged that the victim did not do anything to justify the beating, and as a corrections officer, he is not permitted to assault inmates just because they anger him.     Gonzales is facing a maximum of ten years in federal prison.\\xa0 He remains on conditions of release and under pretrial supervision pending his sentencing hearing, which has yet to be scheduled.       Fellow former MDC corrections officers Kevin Casaus, 23, and Matthew Pendley, 25, were indicted by a federal grand jury in June 2012, and are pending trial on charges related to this assault.\\xa0 Casaus is charged with violating the victim’s civil right rights when he shoved and struck the victim while in the shower area/dress out area.\\xa0 Casaus is further charged with obstruction of justice and falsification of records, first for making false statements to detectives of the Bernalillo County Sheriff’s Office (BCSO) and then for falsifying his incident report.\\xa0 Similarly, Matthew Pendley is also charged with obstruction of justice for making false statements to BCSO detectives, and also for tampering with evidence by cleaning up blood from the shower room/dress out area.\\xa0 Casaus and Pendley     are presumed innocent unless proven guilty.     This case is being investigated by the Albuquerque Division of the FBI, and is being prosecuted by Assistant U.S. Attorney Mark T. Baker for the District of New Mexico and Trial Attorney Fara Gold of the Civil Rights Division of the U.S. Department of Justice.'"
      ]
     },
     "metadata": {},
     "output_type": "display_data"
    },
    {
     "name": "stdout",
     "output_type": "stream",
     "text": [
      "article 3\n"
     ]
    },
    {
     "data": {
      "text/plain": [
       "\"The Justice Department announced today that Kevin Casaus, 24, a former corrections officer at the Bernalillo County Metropolitan Detention Center (MDC) in Albuquerque, N.M., was sentenced this morning to serve 15 months in federal prison followed by one year of supervised release for his conviction on obstruction of justice and falsification of records charges. \\xa0 Casaus and fellow former MDC corrections officers, Demetrio Juan Gonzales, 41, and Matthew Pendley, 26, were indicted in June 2012, and charged with various crimes related to the Dec. 21, 2011 assault of an inmate housed at MDC, and subsequent attempts to cover up and impede the investigation of the assault.\\xa0 \\xa0 On March 6, 2013, a federal jury convicted Casaus on obstruction of justice and falsification of records charges, and acquitted him on a related assault charge.\\xa0 According to the evidence at trial, during the early morning hours of Dec. 21, 2011, Gonzales was assigned to the Receiving-Discharge-Transfer (RDT) Unit at MDC where individuals are brought to be booked soon after they are arrested.\\xa0 His job was to photograph and fingerprint those who are brought to RDT for booking.\\xa0 The victim, who had been arrested for driving while intoxicated, was verbally uncooperative during the booking process, but was not a physical threat to anyone.\\xa0 Gonzales, who had previously pleaded guilty, testified that he became angry at the victim and walked him to the shower room where he knew there were no surveillance cameras.\\xa0 Several other corrections officers, including Casaus, followed Gonzales to the shower room.\\xa0 There, Gonzales physically assaulted the victim, striking him multiple times, and choking him.\\xa0 Gonzales testified that he beat the victim “in a blind rage” and then had to wash the victim’s blood off his hands.\\xa0 He further testified that the victim did not do anything to justify the beating. \\xa0 According to the testimony, Casaus and two other corrections officers were present in the shower room during the beating.\\xa0 Additionally, a former inmate who was in the hallway outside the shower room at the time of the beating, overheard groans and sounds consistent with the assault coming from the shower room. The former inmate was then tasked with cleaning the blood that was on the floors and walls of the shower room.\\xa0 Casaus falsely stated during a recorded interview with a Bernalillo County Sheriff’s Office investigator that the victim was not assaulted in the shower room, the victim was not bleeding and that they only brought the victim to the shower room to ask him to change out of his clothes.\\xa0 Casaus falsified his report when he wrote that he saw blood on the victim's clothes, but did not know where the blood came from. \\xa0 In October\\xa0 2012, Gonzales pleaded guilty to violating the civil rights of an individual in his custody when he struck and choked the victim in the shower room/dress out area of MDC and subsequently was sentenced to 33 months in prison followed by three years of supervised release.\\xa0 Pendley pleaded guilty in February 2012 to obstructing justice by making false statements to law enforcement during their investigation of the assault on an inmate and was sentenced to a five year term of probation. \\xa0 “Law enforcement officers who lie and obstruct justice to cover a fellow officer’s criminal acts do a disservice to the community that they swore to serve and protect,” said Acting Assistant Attorney General for Civil Rights Jocelyn Samuels.\\xa0 “As the prosecution of these three MDC corrections officers demonstrate, the Civil Rights Division, in conjunction with our partners at the U.S. Attorney’s Office and FBI, is committed to holding law enforcement officers accountable when they violate their sworn duty to uphold the Constitution.” \\xa0 “A correction officer who actively covers up illegal violence perpetrated by another officer re-victimizes a victim, undermines the public’s confidence in the justice system and fosters a belief that correction officer violence perpetrated on inmates will be met with impunity rather than justice,” said Acting U.S. Attorney Steven C. Yarbrough of the District of New Mexico.\\xa0 “Such a culture cannot, and will not, be tolerated.” \\xa0 “Correctional officers are given tremendous power to enforce the law.\\xa0 When that authority is abused, it's not just the civil rights of prison inmates that are threatened, but the public's trust in our democratic institutions as well,” said Carol K.O. Lee, Special Agent in Charge of the Albuquerque Division of the FBI.\\xa0 “The FBI, as the lead agency for investigating abuses of government officials, places a high priority on these cases.\\xa0 I would like to commend the FBI Special Agents who worked on this case, with the assistance of the U.S. Attorney's Office, the Justice Department's Civil Rights Division, the Bernalillo County Sheriff's Office and the Metropolitan Detention Center's executive management and internal affairs staff.” \\xa0 This case was investigated by the Albuquerque Division of the FBI and was prosecuted by Assistant U.S. Attorney Mark T. Baker for the District of New Mexico and Trial Attorney Fara Gold of the Civil Rights Division.\""
      ]
     },
     "metadata": {},
     "output_type": "display_data"
    },
    {
     "name": "stdout",
     "output_type": "stream",
     "text": [
      "article 4\n"
     ]
    },
    {
     "data": {
      "text/plain": [
       "'U.S. Attorney Ronald C. Machen Jr. of the District of Colombia and Chief Cathy L. Lanier of the Metropolitan Police Department announced that Bernard Freundel, a rabbi who had worked for a Jewish congregation in Washington, D.C., pleaded guilty today to 52 counts of voyeurism stemming from a series of incidents between 2009 and 2014 in which he secretly took video recordings of women preparing for a Jewish ritual bath. Freundel, 63, of Washington, D.C., pleaded guilty to the misdemeanor charges before the honorable Senior Judge Geoffrey M. Alprin in the superior court of the District of Columbia.\\xa0 Each count carries a maximum sentence of a year of incarceration, a fine of up to $1,000 or $2,500, for the offenses which occurred on or after June 11, 2013, or both.\\xa0 Freundel faces a maximum of 52 years in prison and the potential fines when he is sentenced on May 15, 2015. “Bernard Freundel exploited his position of power to victimize dozens of women who entered a sacred, intimate space of religious ritual,” said U.S. Attorney Machen.\\xa0 “He betrayed the trust of every woman whose private moments he caught on camera along with an entire community that counted on him for moral leadership.\\xa0 We hope that this guilty plea will allow each of his victims to move forward and heal.\\xa0 We will be seeking a prison sentence that reflects the gravity of this disturbing assault on the privacy and dignity of so many victims.” “This predator committed an outrageous breach of trust,” said Chief Lanier.\\xa0 “He must be punished for abusing his position to deliberately and repeatedly violate women’s privacy.\\xa0 My heart goes out to the victims and all members of the community who have been deeply wounded by this criminal’s actions.” According to a factual proffer submitted at today’s plea hearing, between early 2009 and October 2014, Freundel was the sole Rabbi of Kesher Israel congregation in Northwest Washington.\\xa0 Kesher Israel is adjacent to the National Capital Mikvah, a Jewish ritual bath. \\xa0A mikvah is used primarily by Orthodox Jewish women for monthly spiritual purification and by other individuals as the final step in the Orthodox Jewish conversion process. The National Capital Mikvah has two changing/showering rooms connected to the room with the ritual bath.\\xa0 On numerous occasions between early 2009 and October 2014, the defendant installed and maintained electronic recording devices in the larger of the two changing/showering rooms.\\xa0 Freundel did so for the sole purpose of secretly and surreptitiously recording women who were using the bathroom and shower; these women were totally and partially undressed before and/or after showering.\\xa0 The women recorded did not know they were being recorded and did not consent to being recorded. On Oct. 12, 2014, Freundel entered the larger changing/showering room with a clock radio that contained a hidden recording device.\\xa0 He placed the clock radio on the countertop of the sink and positioned the recording element so that it faced the shower area.\\xa0 He then left the changing area.\\xa0 Shortly thereafter, the clock radio was taken by an individual associated with the Mikvah, who immediately turned it over to the Metropolitan Police Department, leading to an investigation. \\xa0Freundel was arrested on Oct. 14, 2014.\\xa0 Law enforcement executed search warrants to examine the contents of the clock radio and to seek evidence at Freundel’s home and office at Towson University.\\xa0 Computer forensic examinations of all of the electronic devices and digital media storage devices seized from the defendant’s home and office revealed recordings made by the defendant of at least 52 women who were totally or partially undressed in the large showering/changing room of the Mikvah on a total of 25 different dates between March 4, 2012 and Sept. 19, 2014.\\xa0 These are the women who are the subjects of the charges to which Freundel pled guilty today.\\xa0 The charge of voyeurism has a three-year statute of limitations. In addition to the 52 recordings that were the subject of the plea, computer forensic examinations revealed that Freundel secretly and surreptitiously recorded approximately 100 additional women totally or partially undressed before and/or after showering in the large bathroom at the National Capital Mikvah between 2009 and September 2014.\\xa0 These women did not know that they were being recorded and did not consent to being recorded. In announcing the plea, U.S. Attorney Machen and Chief Lanier commended the work of those who investigated the case for the Metropolitan Police Department, including officers and detectives of the second police district. They also recognized the assistance provided by the Towson University Police Department.\\xa0 In addition, they acknowledged the efforts of those who worked on the case from the U.S. Attorney’s Office including Chief Jelahn Stewart of the Victim/Witness Assistance Unit, Deputy Chief Sharon Marcus-Kurn of the Sex Offense and Domestic Violence Section, Lead Paralegal Specialist Wanda Trice, Victim/Witness Advocate Lezlie Richardson, Victim/Witness Advocate Supervisor Dr. Lorraine Chase and Criminal Investigator John Marsh. Finally they expressed appreciation for the work of Assistant U.S. Attorneys Amy H. Zubrensky and Rebekah Holman, who investigated and prosecuted the case.'"
      ]
     },
     "metadata": {},
     "output_type": "display_data"
    },
    {
     "name": "stdout",
     "output_type": "stream",
     "text": [
      "article 5\n"
     ]
    },
    {
     "data": {
      "text/plain": [
       "'Bernard “Barry” Freundel, 63, of Washington D.C., a rabbi who had worked for a Jewish congregation in Washington, D.C., was sentenced today to a prison term of six years and six months on 52 counts of voyeurism stemming from a series of incidents between 2009 and 2014 in which he secretly took video recordings of women preparing for a Jewish ritual bath. The sentence was announced by Acting U.S. Attorney Vincent H. Cohen Jr. of the District of Columbia and Chief Cathy L. Lanier of the Metropolitan Police Department (MPD). Freundel pleaded guilty in February 2015 to the misdemeanor charges before the Honorable Senior Judge Geoffrey M. Alprin in the Superior Court of the District of Columbia.\\xa0 The sentencing came at the end of a three-hour hearing in which more than a dozen women told the court of the emotional impact they continue to endure because of Freundel’s abuse of his position of trust.\\xa0 Judge Alprin sentenced Freundel to 45 days in prison for each of the 52 victims, calling his actions “a classic abuse of power and violation of trust.” Freundel, who had been free on personal recognizance, was immediately taken into custody to begin serving his sentence. “Today the court heard the heart-wrenching accounts of the victims of Barry Freundel’s exploitation,” said Acting U.S. Attorney Cohen.\\xa0 “Their stories make clear the lasting scars that will be left by this outrageous abuse of power.\\xa0 This prosecution was an effort to restore the dignity that Barry Freundel tried to steal from these women.\\xa0 We hope that the scores of victims of his crimes will find some solace in the justice meted out by the court today.” “It is my hope that the many victims in this case draw a small measure of relief from the sentencing action today,” said Chief Lanier.\\xa0 “His actions wounded an entire religious community and showed a flagrant disregard for his position of trust within that community.\\xa0 I am confident that today’s action by the courts will serve to continue the healing process for the many unwitting victims of this predator.” According to a factual proffer submitted at the earlier plea hearing, between early 2009 and October 2014, Freundel was the sole rabbi of Kesher Israel congregation in Northwest Washington, D.C.\\xa0 Kesher Israel is adjacent to the National Capital Mikvah, a Jewish ritual bath.\\xa0 A mikvah is used primarily by Orthodox Jewish women for monthly spiritual purification and by other individuals as the final step in the Orthodox Jewish conversion process. The National Capital Mikvah has two changing/showering rooms connected to the room with the ritual bath.\\xa0 On numerous occasions between early 2009 and October 2014, the defendant installed and maintained electronic recording devices in the larger of the two changing/showering rooms.\\xa0 Freundel did so for the sole purpose of secretly and surreptitiously recording women who were using the bathroom and shower; these women were totally and partially undressed before and/or after showering.\\xa0 The women recorded did not know they were being recorded and did not consent to being recorded. On Oct. 12, 2014, Freundel entered the larger changing/showering room with a clock radio that contained a hidden recording device.\\xa0 He placed the clock radio on the countertop of the sink and positioned the recording element so that it faced the shower area.\\xa0 He then left the changing area.\\xa0 Shortly thereafter, the clock radio was taken by an individual associated with the Mikvah, who immediately turned it over to the MPD, leading to an investigation. Freundel was arrested on Oct. 14, 2014.\\xa0 Law enforcement executed search warrants to examine the contents of the clock radio and to seek evidence at Freundel’s home and office at Towson University.\\xa0 Computer forensic examinations of all of the electronic devices and digital media storage devices seized from the defendant’s home and office revealed recordings made by the defendant of at least 52 women who were totally or partially undressed in the large showering/changing room of the Mikvah on a total of 25 different dates between March 4, 2012 and Sept. 19, 2014.\\xa0 These are the women who are the subjects of the charges to which Freundel pleaded guilty in February 2015.\\xa0 The charge of voyeurism has a three-year statute of limitations. In addition to the 52 recordings that were the subject of the plea, computer forensic examinations revealed that Freundel secretly and surreptitiously recorded approximately 100 additional women totally or partially undressed before and/or after showering in the large bathroom at the National Capital Mikvah between 2009 and September 2014.\\xa0 These women did not know that they were being recorded and did not consent to being recorded. In announcing the sentence, Acting U.S. Attorney Cohen and Chief Lanier commended the work of those who investigated the case for the Metropolitan Police Department, including officers and detectives of the Second Police District.\\xa0 They also recognized the assistance provided by the Towson University Police Department.\\xa0 In addition, they acknowledged the efforts of those who worked on the case from the U.S. Attorney’s Office of the District of Columbia, including Chief Jelahn Stewart of the Victim/Witness Assistance Unit; and Deputy Chief Sharon Marcus-Kurn of the Sex Offense and Domestic Violence Section. Finally they expressed appreciation for the work of Assistant U.S. Attorneys Amy H. Zubrensky and Rebekah Holman, who investigated and prosecuted the case.'"
      ]
     },
     "metadata": {},
     "output_type": "display_data"
    }
   ],
   "source": [
    "query = input(\"what is your query? \")\n",
    "n = 1\n",
    "for doc in matching_score(5,query):\n",
    "    print(f\"article {n}\")\n",
    "    n+=1\n",
    "    display(pd_data.iloc[doc].contents)"
   ]
  }
 ],
 "metadata": {
  "kernelspec": {
   "display_name": "Python 3",
   "language": "python",
   "name": "python3"
  },
  "language_info": {
   "codemirror_mode": {
    "name": "ipython",
    "version": 3
   },
   "file_extension": ".py",
   "mimetype": "text/x-python",
   "name": "python",
   "nbconvert_exporter": "python",
   "pygments_lexer": "ipython3",
   "version": "3.8.1"
  }
 },
 "nbformat": 4,
 "nbformat_minor": 4
}
